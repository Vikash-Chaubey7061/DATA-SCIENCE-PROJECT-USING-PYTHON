{
  "nbformat": 4,
  "nbformat_minor": 0,
  "metadata": {
    "colab": {
      "provenance": [],
      "authorship_tag": "ABX9TyOieuxxQ30+VionpgUo/Lpb",
      "include_colab_link": true
    },
    "kernelspec": {
      "name": "python3",
      "display_name": "Python 3"
    },
    "language_info": {
      "name": "python"
    }
  },
  "cells": [
    {
      "cell_type": "markdown",
      "metadata": {
        "id": "view-in-github",
        "colab_type": "text"
      },
      "source": [
        "<a href=\"https://colab.research.google.com/github/Vikash-Chaubey7061/DATA-SCIENCE-PROJECT-USING-PYTHON/blob/main/Food_waste_management.ipynb\" target=\"_parent\"><img src=\"https://colab.research.google.com/assets/colab-badge.svg\" alt=\"Open In Colab\"/></a>"
      ]
    },
    {
      "cell_type": "markdown",
      "source": [
        "Project Title- Project Title\tLocal Food Wastage Management System"
      ],
      "metadata": {
        "id": "ml8zAzOxcX20"
      }
    },
    {
      "cell_type": "markdown",
      "source": [
        "Project By- Vikash Kumar Chaubey"
      ],
      "metadata": {
        "id": "XMyp4Z1DcjLq"
      }
    },
    {
      "cell_type": "markdown",
      "source": [
        "Skills take away From This Project                \n",
        "●\tPython\n",
        "●\tSQL\n",
        "●\tStreamlit\n",
        "●\tData Analysis\n"
      ],
      "metadata": {
        "id": "3aUtztoXcvdx"
      }
    },
    {
      "cell_type": "markdown",
      "source": [
        "Domain\n",
        "\n",
        "●\tFood Management\n",
        "●\tWaste Reduction\n",
        "●\tSocial Good.\n"
      ],
      "metadata": {
        "id": "FcwNopmMc8sW"
      }
    },
    {
      "cell_type": "markdown",
      "source": [
        "Problem Statement-    Food wastage is a significant issue, with many households and restaurants discarding surplus food while numerous people struggle with food insecurity. This project aims to develop a Local Food Wastage Management System, where:\n",
        "●\tRestaurants and individuals can list surplus food.\n",
        "●\tNGOs or individuals in need can claim the food.\n",
        "●\tSQL stores available food details and locations.\n",
        "●\tA Streamlit app enables interaction, filtering, CRUD operation and visualization.\n"
      ],
      "metadata": {
        "id": "kBFRbhOLdE5U"
      }
    },
    {
      "cell_type": "markdown",
      "source": [
        "Database Setup (SQL)"
      ],
      "metadata": {
        "id": "j7ro6Ym2dQB7"
      }
    },
    {
      "cell_type": "code",
      "source": [
        "import sqlite3\n",
        "import pandas as pd\n",
        "\n",
        "# Create SQLite database\n",
        "conn = sqlite3.connect('food_waste.db')\n",
        "cursor = conn.cursor()\n",
        "\n",
        "# Create Providers table\n",
        "cursor.execute('''\n",
        "CREATE TABLE IF NOT EXISTS Providers (\n",
        "    Provider_ID INTEGER PRIMARY KEY,\n",
        "    Name TEXT,\n",
        "    Type TEXT,\n",
        "    Address TEXT,\n",
        "    City TEXT,\n",
        "    Contact TEXT\n",
        ")\n",
        "''')\n",
        "\n",
        "# Create Receivers table\n",
        "cursor.execute('''\n",
        "CREATE TABLE IF NOT EXISTS Receivers (\n",
        "    Receiver_ID INTEGER PRIMARY KEY,\n",
        "    Name TEXT,\n",
        "    Type TEXT,\n",
        "    City TEXT,\n",
        "    Contact TEXT\n",
        ")\n",
        "''')\n",
        "\n",
        "# Create Food_Listings table\n",
        "cursor.execute('''\n",
        "CREATE TABLE IF NOT EXISTS Food_Listings (\n",
        "    Food_ID INTEGER PRIMARY KEY,\n",
        "    Food_Name TEXT,\n",
        "    Quantity INTEGER,\n",
        "    Expiry_Date DATE,\n",
        "    Provider_ID INTEGER,\n",
        "    Provider_Type TEXT,\n",
        "    Location TEXT,\n",
        "    Food_Type TEXT,\n",
        "    Meal_Type TEXT,\n",
        "    FOREIGN KEY (Provider_ID) REFERENCES Providers(Provider_ID)\n",
        ")\n",
        "''')\n",
        "\n",
        "# Create Claims table\n",
        "cursor.execute('''\n",
        "CREATE TABLE IF NOT EXISTS Claims (\n",
        "    Claim_ID INTEGER PRIMARY KEY,\n",
        "    Food_ID INTEGER,\n",
        "    Receiver_ID INTEGER,\n",
        "    Status TEXT,\n",
        "    Timestamp DATETIME,\n",
        "    FOREIGN KEY (Food_ID) REFERENCES Food_Listings(Food_ID),\n",
        "    FOREIGN KEY (Receiver_ID) REFERENCES Receivers(Receiver_ID)\n",
        ")\n",
        "''')\n",
        "\n",
        "# Load data from CSV files (assuming you've downloaded them)\n",
        "def load_csv_to_table(csv_file, table_name):\n",
        "    df = pd.read_csv(csv_file)\n",
        "    df.to_sql(table_name, conn, if_exists='append', index=False)\n",
        "\n",
        "# Example usage (replace with actual file paths):\n",
        "# load_csv_to_table('providers_data.csv', 'Providers')\n",
        "# load_csv_to_table('receivers_data.csv', 'Receivers')\n",
        "# load_csv_to_table('food_listings_data.csv', 'Food_Listings')\n",
        "# load_csv_to_table('claims_data.csv', 'Claims')\n",
        "\n",
        "conn.commit()"
      ],
      "metadata": {
        "id": "cqDKuLzYdNXq"
      },
      "execution_count": 1,
      "outputs": []
    },
    {
      "cell_type": "markdown",
      "source": [
        "2. SQL Queries Implementation"
      ],
      "metadata": {
        "id": "q8gfYg5pdkkh"
      }
    },
    {
      "cell_type": "code",
      "source": [
        "def execute_query(query, params=None):\n",
        "    cursor = conn.cursor()\n",
        "    if params:\n",
        "        cursor.execute(query, params)\n",
        "    else:\n",
        "        cursor.execute(query)\n",
        "    return cursor.fetchall()\n",
        "\n",
        "# Query 1: Food providers and receivers in each city\n",
        "query1 = '''\n",
        "SELECT\n",
        "    p.City,\n",
        "    COUNT(DISTINCT p.Provider_ID) AS Provider_Count,\n",
        "    COUNT(DISTINCT r.Receiver_ID) AS Receiver_Count\n",
        "FROM Providers p\n",
        "LEFT JOIN Receivers r ON p.City = r.City\n",
        "GROUP BY p.City\n",
        "'''\n",
        "\n",
        "# Query 2: Provider type contributing most food\n",
        "query2 = '''\n",
        "SELECT\n",
        "    p.Type,\n",
        "    SUM(fl.Quantity) AS Total_Quantity\n",
        "FROM Providers p\n",
        "JOIN Food_Listings fl ON p.Provider_ID = fl.Provider_ID\n",
        "GROUP BY p.Type\n",
        "ORDER BY Total_Quantity DESC\n",
        "LIMIT 1\n",
        "'''\n",
        "\n",
        "# Query 5: Total quantity of food available\n",
        "query5 = '''\n",
        "SELECT SUM(Quantity) AS Total_Food_Available\n",
        "FROM Food_Listings\n",
        "'''\n",
        "\n",
        "# Query 8: Food claims per food item\n",
        "query8 = '''\n",
        "SELECT\n",
        "    fl.Food_Name,\n",
        "    COUNT(c.Claim_ID) AS Claim_Count\n",
        "FROM Food_Listings fl\n",
        "LEFT JOIN Claims c ON fl.Food_ID = c.Food_ID\n",
        "GROUP BY fl.Food_ID, fl.Food_Name\n",
        "ORDER BY Claim_Count DESC\n",
        "'''\n",
        "\n",
        "# Execute and print results\n",
        "print(\"Providers and Receivers per City:\")\n",
        "print(execute_query(query1))\n",
        "print(\"\\nProvider Type Contributing Most Food:\")\n",
        "print(execute_query(query2))\n",
        "print(\"\\nTotal Food Available:\")\n",
        "print(execute_query(query5))\n",
        "print(\"\\nFood Claims per Item:\")\n",
        "print(execute_query(query8))"
      ],
      "metadata": {
        "colab": {
          "base_uri": "https://localhost:8080/"
        },
        "id": "9wPLwoS_dhxm",
        "outputId": "1ce7b46b-1027-4041-c3ae-273f913322d0"
      },
      "execution_count": 2,
      "outputs": [
        {
          "output_type": "stream",
          "name": "stdout",
          "text": [
            "Providers and Receivers per City:\n",
            "[]\n",
            "\n",
            "Provider Type Contributing Most Food:\n",
            "[]\n",
            "\n",
            "Total Food Available:\n",
            "[(None,)]\n",
            "\n",
            "Food Claims per Item:\n",
            "[]\n"
          ]
        }
      ]
    },
    {
      "cell_type": "markdown",
      "source": [
        "3. Streamlit Application"
      ],
      "metadata": {
        "id": "odyxd42Tds7M"
      }
    },
    {
      "cell_type": "code",
      "source": [
        "import streamlit as st\n",
        "import pandas as pd\n",
        "import sqlite3\n",
        "\n",
        "# Initialize connection\n",
        "conn = sqlite3.connect('food_waste.db')\n",
        "\n",
        "# App title\n",
        "st.title('Local Food Wastage Management System')\n",
        "\n",
        "# Sidebar filters\n",
        "st.sidebar.header('Filters')\n",
        "city_filter = st.sidebar.selectbox('Select City', ['All'] + list(pd.read_sql('SELECT DISTINCT City FROM Providers', conn)['City']))\n",
        "food_type_filter = st.sidebar.selectbox('Select Food Type', ['All'] + list(pd.read_sql('SELECT DISTINCT Food_Type FROM Food_Listings', conn)['Food_Type']))\n",
        "meal_type_filter = st.sidebar.selectbox('Select Meal Type', ['All'] + list(pd.read_sql('SELECT DISTINCT Meal_Type FROM Food_Listings', conn)['Meal_Type']))\n",
        "\n",
        "# Build query based on filters\n",
        "query = 'SELECT * FROM Food_Listings WHERE 1=1'\n",
        "params = []\n",
        "\n",
        "if city_filter != 'All':\n",
        "    query += ' AND Location = ?'\n",
        "    params.append(city_filter)\n",
        "if food_type_filter != 'All':\n",
        "    query += ' AND Food_Type = ?'\n",
        "    params.append(food_type_filter)\n",
        "if meal_type_filter != 'All':\n",
        "    query += ' AND Meal_Type = ?'\n",
        "    params.append(meal_type_filter)\n",
        "\n",
        "# Display filtered food listings\n",
        "st.header('Available Food Listings')\n",
        "food_listings = pd.read_sql(query, conn, params=params if params else None)\n",
        "st.dataframe(food_listings)\n",
        "\n",
        "# Display providers in selected city\n",
        "if city_filter != 'All':\n",
        "    st.header(f'Food Providers in {city_filter}')\n",
        "    providers = pd.read_sql('SELECT Name, Type, Contact FROM Providers WHERE City = ?', conn, params=[city_filter])\n",
        "    st.dataframe(providers)\n",
        "\n",
        "# CRUD Operations\n",
        "st.sidebar.header('Manage Listings')\n",
        "operation = st.sidebar.selectbox('Operation', ['Add', 'Update', 'Delete'])\n",
        "\n",
        "if operation == 'Add':\n",
        "    st.header('Add New Food Listing')\n",
        "    with st.form(\"add_form\"):\n",
        "        food_name = st.text_input(\"Food Name\")\n",
        "        quantity = st.number_input(\"Quantity\", min_value=1)\n",
        "        expiry_date = st.date_input(\"Expiry Date\")\n",
        "        provider_id = st.number_input(\"Provider ID\", min_value=1)\n",
        "        food_type = st.selectbox(\"Food Type\", [\"Vegetarian\", \"Non-Vegetarian\", \"Vegan\"])\n",
        "        meal_type = st.selectbox(\"Meal Type\", [\"Breakfast\", \"Lunch\", \"Dinner\", \"Snacks\"])\n",
        "\n",
        "        if st.form_submit_button(\"Add Listing\"):\n",
        "            cursor = conn.cursor()\n",
        "            cursor.execute('''\n",
        "            INSERT INTO Food_Listings (Food_Name, Quantity, Expiry_Date, Provider_ID, Food_Type, Meal_Type, Location)\n",
        "            VALUES (?, ?, ?, ?, ?, ?,\n",
        "                (SELECT City FROM Providers WHERE Provider_ID = ?))\n",
        "            ''', (food_name, quantity, expiry_date, provider_id, food_type, meal_type, provider_id))\n",
        "            conn.commit()\n",
        "            st.success(\"Food listing added successfully!\")\n",
        "\n",
        "# Add more CRUD operations and other features as needed\n",
        "\n",
        "# Data Analysis Section\n",
        "st.header('Food Wastage Analysis')\n",
        "\n",
        "# Query 2 visualization\n",
        "st.subheader('Food Contribution by Provider Type')\n",
        "provider_contrib = pd.read_sql('''\n",
        "SELECT p.Type, SUM(fl.Quantity) AS Total_Quantity\n",
        "FROM Providers p\n",
        "JOIN Food_Listings fl ON p.Provider_ID = fl.Provider_ID\n",
        "GROUP BY p.Type\n",
        "ORDER BY Total_Quantity DESC\n",
        "''', conn)\n",
        "st.bar_chart(provider_contrib.set_index('Type'))\n",
        "\n",
        "# Query 8 visualization\n",
        "st.subheader('Most Claimed Food Items')\n",
        "claimed_food = pd.read_sql('''\n",
        "SELECT fl.Food_Name, COUNT(c.Claim_ID) AS Claim_Count\n",
        "FROM Food_Listings fl\n",
        "LEFT JOIN Claims c ON fl.Food_ID = c.Food_ID\n",
        "GROUP BY fl.Food_ID, fl.Food_Name\n",
        "ORDER BY Claim_Count DESC\n",
        "LIMIT 10\n",
        "''', conn)\n",
        "st.bar_chart(claimed_food.set_index('Food_Name'))"
      ],
      "metadata": {
        "colab": {
          "base_uri": "https://localhost:8080/"
        },
        "id": "sjbHmSBFdvqj",
        "outputId": "bb9f7158-1f2d-4290-e079-13954cd59f4b"
      },
      "execution_count": 5,
      "outputs": [
        {
          "output_type": "stream",
          "name": "stderr",
          "text": [
            "2025-08-16 15:20:19.607 WARNING streamlit.runtime.scriptrunner_utils.script_run_context: Thread 'MainThread': missing ScriptRunContext! This warning can be ignored when running in bare mode.\n",
            "2025-08-16 15:20:19.884 \n",
            "  \u001b[33m\u001b[1mWarning:\u001b[0m to view this Streamlit app on a browser, run it with the following\n",
            "  command:\n",
            "\n",
            "    streamlit run /usr/local/lib/python3.11/dist-packages/colab_kernel_launcher.py [ARGUMENTS]\n",
            "2025-08-16 15:20:19.888 Thread 'MainThread': missing ScriptRunContext! This warning can be ignored when running in bare mode.\n",
            "2025-08-16 15:20:19.889 Thread 'MainThread': missing ScriptRunContext! This warning can be ignored when running in bare mode.\n",
            "2025-08-16 15:20:19.893 Thread 'MainThread': missing ScriptRunContext! This warning can be ignored when running in bare mode.\n",
            "2025-08-16 15:20:19.896 Thread 'MainThread': missing ScriptRunContext! This warning can be ignored when running in bare mode.\n",
            "2025-08-16 15:20:19.898 Thread 'MainThread': missing ScriptRunContext! This warning can be ignored when running in bare mode.\n",
            "2025-08-16 15:20:19.917 Thread 'MainThread': missing ScriptRunContext! This warning can be ignored when running in bare mode.\n",
            "2025-08-16 15:20:19.918 Thread 'MainThread': missing ScriptRunContext! This warning can be ignored when running in bare mode.\n",
            "2025-08-16 15:20:19.920 Thread 'MainThread': missing ScriptRunContext! This warning can be ignored when running in bare mode.\n",
            "2025-08-16 15:20:19.926 Thread 'MainThread': missing ScriptRunContext! This warning can be ignored when running in bare mode.\n",
            "2025-08-16 15:20:19.936 Session state does not function when running a script without `streamlit run`\n",
            "2025-08-16 15:20:19.946 Thread 'MainThread': missing ScriptRunContext! This warning can be ignored when running in bare mode.\n",
            "2025-08-16 15:20:19.954 Thread 'MainThread': missing ScriptRunContext! This warning can be ignored when running in bare mode.\n",
            "2025-08-16 15:20:19.971 Thread 'MainThread': missing ScriptRunContext! This warning can be ignored when running in bare mode.\n",
            "2025-08-16 15:20:19.982 Thread 'MainThread': missing ScriptRunContext! This warning can be ignored when running in bare mode.\n",
            "2025-08-16 15:20:19.987 Thread 'MainThread': missing ScriptRunContext! This warning can be ignored when running in bare mode.\n",
            "2025-08-16 15:20:19.990 Thread 'MainThread': missing ScriptRunContext! This warning can be ignored when running in bare mode.\n",
            "2025-08-16 15:20:19.994 Thread 'MainThread': missing ScriptRunContext! This warning can be ignored when running in bare mode.\n",
            "2025-08-16 15:20:20.002 Thread 'MainThread': missing ScriptRunContext! This warning can be ignored when running in bare mode.\n",
            "2025-08-16 15:20:20.005 Thread 'MainThread': missing ScriptRunContext! This warning can be ignored when running in bare mode.\n",
            "2025-08-16 15:20:20.006 Thread 'MainThread': missing ScriptRunContext! This warning can be ignored when running in bare mode.\n",
            "2025-08-16 15:20:20.012 Thread 'MainThread': missing ScriptRunContext! This warning can be ignored when running in bare mode.\n",
            "2025-08-16 15:20:20.013 Thread 'MainThread': missing ScriptRunContext! This warning can be ignored when running in bare mode.\n",
            "2025-08-16 15:20:20.020 Thread 'MainThread': missing ScriptRunContext! This warning can be ignored when running in bare mode.\n",
            "2025-08-16 15:20:20.026 Thread 'MainThread': missing ScriptRunContext! This warning can be ignored when running in bare mode.\n",
            "2025-08-16 15:20:20.034 Thread 'MainThread': missing ScriptRunContext! This warning can be ignored when running in bare mode.\n",
            "2025-08-16 15:20:20.039 Thread 'MainThread': missing ScriptRunContext! This warning can be ignored when running in bare mode.\n",
            "2025-08-16 15:20:20.049 Thread 'MainThread': missing ScriptRunContext! This warning can be ignored when running in bare mode.\n",
            "2025-08-16 15:20:20.059 Thread 'MainThread': missing ScriptRunContext! This warning can be ignored when running in bare mode.\n",
            "2025-08-16 15:20:20.061 Thread 'MainThread': missing ScriptRunContext! This warning can be ignored when running in bare mode.\n",
            "2025-08-16 15:20:20.065 Thread 'MainThread': missing ScriptRunContext! This warning can be ignored when running in bare mode.\n",
            "2025-08-16 15:20:20.182 Thread 'MainThread': missing ScriptRunContext! This warning can be ignored when running in bare mode.\n",
            "2025-08-16 15:20:20.186 Thread 'MainThread': missing ScriptRunContext! This warning can be ignored when running in bare mode.\n",
            "2025-08-16 15:20:20.190 Thread 'MainThread': missing ScriptRunContext! This warning can be ignored when running in bare mode.\n",
            "2025-08-16 15:20:20.194 Thread 'MainThread': missing ScriptRunContext! This warning can be ignored when running in bare mode.\n",
            "2025-08-16 15:20:20.197 Thread 'MainThread': missing ScriptRunContext! This warning can be ignored when running in bare mode.\n",
            "2025-08-16 15:20:20.201 Thread 'MainThread': missing ScriptRunContext! This warning can be ignored when running in bare mode.\n",
            "2025-08-16 15:20:20.202 Thread 'MainThread': missing ScriptRunContext! This warning can be ignored when running in bare mode.\n",
            "2025-08-16 15:20:20.205 Thread 'MainThread': missing ScriptRunContext! This warning can be ignored when running in bare mode.\n",
            "2025-08-16 15:20:20.209 Thread 'MainThread': missing ScriptRunContext! This warning can be ignored when running in bare mode.\n",
            "2025-08-16 15:20:20.215 Thread 'MainThread': missing ScriptRunContext! This warning can be ignored when running in bare mode.\n",
            "2025-08-16 15:20:20.223 Thread 'MainThread': missing ScriptRunContext! This warning can be ignored when running in bare mode.\n",
            "2025-08-16 15:20:20.227 Thread 'MainThread': missing ScriptRunContext! This warning can be ignored when running in bare mode.\n",
            "2025-08-16 15:20:20.231 Thread 'MainThread': missing ScriptRunContext! This warning can be ignored when running in bare mode.\n",
            "2025-08-16 15:20:20.233 Thread 'MainThread': missing ScriptRunContext! This warning can be ignored when running in bare mode.\n",
            "2025-08-16 15:20:20.235 Thread 'MainThread': missing ScriptRunContext! This warning can be ignored when running in bare mode.\n",
            "2025-08-16 15:20:20.237 Thread 'MainThread': missing ScriptRunContext! This warning can be ignored when running in bare mode.\n",
            "2025-08-16 15:20:20.238 Thread 'MainThread': missing ScriptRunContext! This warning can be ignored when running in bare mode.\n",
            "2025-08-16 15:20:20.247 Thread 'MainThread': missing ScriptRunContext! This warning can be ignored when running in bare mode.\n",
            "2025-08-16 15:20:20.248 Thread 'MainThread': missing ScriptRunContext! This warning can be ignored when running in bare mode.\n",
            "2025-08-16 15:20:20.249 Thread 'MainThread': missing ScriptRunContext! This warning can be ignored when running in bare mode.\n",
            "2025-08-16 15:20:20.249 Thread 'MainThread': missing ScriptRunContext! This warning can be ignored when running in bare mode.\n",
            "2025-08-16 15:20:20.250 Thread 'MainThread': missing ScriptRunContext! This warning can be ignored when running in bare mode.\n",
            "2025-08-16 15:20:20.251 Thread 'MainThread': missing ScriptRunContext! This warning can be ignored when running in bare mode.\n",
            "2025-08-16 15:20:20.259 Thread 'MainThread': missing ScriptRunContext! This warning can be ignored when running in bare mode.\n",
            "2025-08-16 15:20:20.282 Thread 'MainThread': missing ScriptRunContext! This warning can be ignored when running in bare mode.\n",
            "2025-08-16 15:20:20.291 Thread 'MainThread': missing ScriptRunContext! This warning can be ignored when running in bare mode.\n",
            "2025-08-16 15:20:20.292 Thread 'MainThread': missing ScriptRunContext! This warning can be ignored when running in bare mode.\n",
            "2025-08-16 15:20:20.292 Thread 'MainThread': missing ScriptRunContext! This warning can be ignored when running in bare mode.\n",
            "2025-08-16 15:20:20.293 Thread 'MainThread': missing ScriptRunContext! This warning can be ignored when running in bare mode.\n",
            "2025-08-16 15:20:20.300 Thread 'MainThread': missing ScriptRunContext! This warning can be ignored when running in bare mode.\n",
            "2025-08-16 15:20:20.301 Thread 'MainThread': missing ScriptRunContext! This warning can be ignored when running in bare mode.\n",
            "2025-08-16 15:20:20.304 Thread 'MainThread': missing ScriptRunContext! This warning can be ignored when running in bare mode.\n",
            "2025-08-16 15:20:20.312 Thread 'MainThread': missing ScriptRunContext! This warning can be ignored when running in bare mode.\n",
            "2025-08-16 15:20:20.318 Thread 'MainThread': missing ScriptRunContext! This warning can be ignored when running in bare mode.\n",
            "2025-08-16 15:20:20.321 Thread 'MainThread': missing ScriptRunContext! This warning can be ignored when running in bare mode.\n",
            "2025-08-16 15:20:20.327 Thread 'MainThread': missing ScriptRunContext! This warning can be ignored when running in bare mode.\n",
            "2025-08-16 15:20:20.331 Thread 'MainThread': missing ScriptRunContext! This warning can be ignored when running in bare mode.\n",
            "2025-08-16 15:20:20.331 Thread 'MainThread': missing ScriptRunContext! This warning can be ignored when running in bare mode.\n",
            "2025-08-16 15:20:20.334 Thread 'MainThread': missing ScriptRunContext! This warning can be ignored when running in bare mode.\n",
            "2025-08-16 15:20:20.336 Thread 'MainThread': missing ScriptRunContext! This warning can be ignored when running in bare mode.\n",
            "2025-08-16 15:20:20.342 Thread 'MainThread': missing ScriptRunContext! This warning can be ignored when running in bare mode.\n",
            "2025-08-16 15:20:20.345 Thread 'MainThread': missing ScriptRunContext! This warning can be ignored when running in bare mode.\n",
            "2025-08-16 15:20:20.345 Thread 'MainThread': missing ScriptRunContext! This warning can be ignored when running in bare mode.\n",
            "2025-08-16 15:20:20.348 Thread 'MainThread': missing ScriptRunContext! This warning can be ignored when running in bare mode.\n",
            "2025-08-16 15:20:20.353 Thread 'MainThread': missing ScriptRunContext! This warning can be ignored when running in bare mode.\n",
            "2025-08-16 15:20:20.356 Thread 'MainThread': missing ScriptRunContext! This warning can be ignored when running in bare mode.\n",
            "2025-08-16 15:20:20.357 Thread 'MainThread': missing ScriptRunContext! This warning can be ignored when running in bare mode.\n",
            "2025-08-16 15:20:20.363 Thread 'MainThread': missing ScriptRunContext! This warning can be ignored when running in bare mode.\n",
            "2025-08-16 15:20:20.365 Thread 'MainThread': missing ScriptRunContext! This warning can be ignored when running in bare mode.\n",
            "2025-08-16 15:20:20.366 Thread 'MainThread': missing ScriptRunContext! This warning can be ignored when running in bare mode.\n",
            "2025-08-16 15:20:20.370 Thread 'MainThread': missing ScriptRunContext! This warning can be ignored when running in bare mode.\n",
            "2025-08-16 15:20:20.372 Thread 'MainThread': missing ScriptRunContext! This warning can be ignored when running in bare mode.\n",
            "2025-08-16 15:20:20.377 Thread 'MainThread': missing ScriptRunContext! This warning can be ignored when running in bare mode.\n",
            "2025-08-16 15:20:20.383 Thread 'MainThread': missing ScriptRunContext! This warning can be ignored when running in bare mode.\n",
            "2025-08-16 15:20:20.384 Thread 'MainThread': missing ScriptRunContext! This warning can be ignored when running in bare mode.\n",
            "2025-08-16 15:20:20.385 Thread 'MainThread': missing ScriptRunContext! This warning can be ignored when running in bare mode.\n",
            "2025-08-16 15:20:20.386 Thread 'MainThread': missing ScriptRunContext! This warning can be ignored when running in bare mode.\n",
            "2025-08-16 15:20:20.390 Thread 'MainThread': missing ScriptRunContext! This warning can be ignored when running in bare mode.\n",
            "2025-08-16 15:20:20.395 Thread 'MainThread': missing ScriptRunContext! This warning can be ignored when running in bare mode.\n",
            "2025-08-16 15:20:20.395 Thread 'MainThread': missing ScriptRunContext! This warning can be ignored when running in bare mode.\n",
            "2025-08-16 15:20:20.397 Thread 'MainThread': missing ScriptRunContext! This warning can be ignored when running in bare mode.\n",
            "2025-08-16 15:20:20.405 Thread 'MainThread': missing ScriptRunContext! This warning can be ignored when running in bare mode.\n",
            "2025-08-16 15:20:20.407 Thread 'MainThread': missing ScriptRunContext! This warning can be ignored when running in bare mode.\n",
            "2025-08-16 15:20:20.409 Thread 'MainThread': missing ScriptRunContext! This warning can be ignored when running in bare mode.\n",
            "2025-08-16 15:20:20.410 Thread 'MainThread': missing ScriptRunContext! This warning can be ignored when running in bare mode.\n",
            "2025-08-16 15:20:20.412 Thread 'MainThread': missing ScriptRunContext! This warning can be ignored when running in bare mode.\n",
            "2025-08-16 15:20:20.413 Thread 'MainThread': missing ScriptRunContext! This warning can be ignored when running in bare mode.\n",
            "2025-08-16 15:20:20.417 Thread 'MainThread': missing ScriptRunContext! This warning can be ignored when running in bare mode.\n",
            "2025-08-16 15:20:20.419 Thread 'MainThread': missing ScriptRunContext! This warning can be ignored when running in bare mode.\n",
            "2025-08-16 15:20:20.420 Thread 'MainThread': missing ScriptRunContext! This warning can be ignored when running in bare mode.\n",
            "2025-08-16 15:20:20.426 Thread 'MainThread': missing ScriptRunContext! This warning can be ignored when running in bare mode.\n",
            "2025-08-16 15:20:20.429 Thread 'MainThread': missing ScriptRunContext! This warning can be ignored when running in bare mode.\n",
            "/usr/local/lib/python3.11/dist-packages/altair/utils/core.py:264: UserWarning: I don't know how to infer vegalite type from 'empty'.  Defaulting to nominal.\n",
            "  warnings.warn(\n",
            "/usr/local/lib/python3.11/dist-packages/altair/utils/core.py:264: UserWarning: I don't know how to infer vegalite type from 'empty'.  Defaulting to nominal.\n",
            "  warnings.warn(\n",
            "/usr/local/lib/python3.11/dist-packages/altair/utils/core.py:264: UserWarning: I don't know how to infer vegalite type from 'empty'.  Defaulting to nominal.\n",
            "  warnings.warn(\n",
            "2025-08-16 15:20:22.600 Thread 'MainThread': missing ScriptRunContext! This warning can be ignored when running in bare mode.\n",
            "2025-08-16 15:20:22.604 Thread 'MainThread': missing ScriptRunContext! This warning can be ignored when running in bare mode.\n",
            "2025-08-16 15:20:22.610 Thread 'MainThread': missing ScriptRunContext! This warning can be ignored when running in bare mode.\n",
            "2025-08-16 15:20:22.612 Thread 'MainThread': missing ScriptRunContext! This warning can be ignored when running in bare mode.\n",
            "2025-08-16 15:20:22.615 Thread 'MainThread': missing ScriptRunContext! This warning can be ignored when running in bare mode.\n",
            "2025-08-16 15:20:22.616 Thread 'MainThread': missing ScriptRunContext! This warning can be ignored when running in bare mode.\n",
            "/usr/local/lib/python3.11/dist-packages/altair/utils/core.py:264: UserWarning: I don't know how to infer vegalite type from 'empty'.  Defaulting to nominal.\n",
            "  warnings.warn(\n",
            "/usr/local/lib/python3.11/dist-packages/altair/utils/core.py:264: UserWarning: I don't know how to infer vegalite type from 'empty'.  Defaulting to nominal.\n",
            "  warnings.warn(\n",
            "/usr/local/lib/python3.11/dist-packages/altair/utils/core.py:264: UserWarning: I don't know how to infer vegalite type from 'empty'.  Defaulting to nominal.\n",
            "  warnings.warn(\n",
            "2025-08-16 15:20:22.695 Thread 'MainThread': missing ScriptRunContext! This warning can be ignored when running in bare mode.\n",
            "2025-08-16 15:20:22.699 Thread 'MainThread': missing ScriptRunContext! This warning can be ignored when running in bare mode.\n",
            "2025-08-16 15:20:22.709 Thread 'MainThread': missing ScriptRunContext! This warning can be ignored when running in bare mode.\n"
          ]
        },
        {
          "output_type": "execute_result",
          "data": {
            "text/plain": [
              "DeltaGenerator(_form_data=FormData(form_id='add_form'))"
            ]
          },
          "metadata": {},
          "execution_count": 5
        }
      ]
    },
    {
      "cell_type": "code",
      "metadata": {
        "colab": {
          "base_uri": "https://localhost:8080/"
        },
        "id": "73db1c1e",
        "outputId": "9e845bc8-0839-4801-8843-5f29dcd2a218"
      },
      "source": [
        "!pip install streamlit"
      ],
      "execution_count": 4,
      "outputs": [
        {
          "output_type": "stream",
          "name": "stdout",
          "text": [
            "Collecting streamlit\n",
            "  Downloading streamlit-1.48.1-py3-none-any.whl.metadata (9.5 kB)\n",
            "Requirement already satisfied: altair!=5.4.0,!=5.4.1,<6,>=4.0 in /usr/local/lib/python3.11/dist-packages (from streamlit) (5.5.0)\n",
            "Requirement already satisfied: blinker<2,>=1.5.0 in /usr/local/lib/python3.11/dist-packages (from streamlit) (1.9.0)\n",
            "Requirement already satisfied: cachetools<7,>=4.0 in /usr/local/lib/python3.11/dist-packages (from streamlit) (5.5.2)\n",
            "Requirement already satisfied: click<9,>=7.0 in /usr/local/lib/python3.11/dist-packages (from streamlit) (8.2.1)\n",
            "Requirement already satisfied: numpy<3,>=1.23 in /usr/local/lib/python3.11/dist-packages (from streamlit) (2.0.2)\n",
            "Requirement already satisfied: packaging<26,>=20 in /usr/local/lib/python3.11/dist-packages (from streamlit) (25.0)\n",
            "Requirement already satisfied: pandas<3,>=1.4.0 in /usr/local/lib/python3.11/dist-packages (from streamlit) (2.2.2)\n",
            "Requirement already satisfied: pillow<12,>=7.1.0 in /usr/local/lib/python3.11/dist-packages (from streamlit) (11.3.0)\n",
            "Requirement already satisfied: protobuf<7,>=3.20 in /usr/local/lib/python3.11/dist-packages (from streamlit) (5.29.5)\n",
            "Requirement already satisfied: pyarrow>=7.0 in /usr/local/lib/python3.11/dist-packages (from streamlit) (18.1.0)\n",
            "Requirement already satisfied: requests<3,>=2.27 in /usr/local/lib/python3.11/dist-packages (from streamlit) (2.32.3)\n",
            "Requirement already satisfied: tenacity<10,>=8.1.0 in /usr/local/lib/python3.11/dist-packages (from streamlit) (9.1.2)\n",
            "Requirement already satisfied: toml<2,>=0.10.1 in /usr/local/lib/python3.11/dist-packages (from streamlit) (0.10.2)\n",
            "Requirement already satisfied: typing-extensions<5,>=4.4.0 in /usr/local/lib/python3.11/dist-packages (from streamlit) (4.14.1)\n",
            "Collecting watchdog<7,>=2.1.5 (from streamlit)\n",
            "  Downloading watchdog-6.0.0-py3-none-manylinux2014_x86_64.whl.metadata (44 kB)\n",
            "\u001b[2K     \u001b[90m━━━━━━━━━━━━━━━━━━━━━━━━━━━━━━━━━━━━━━━━\u001b[0m \u001b[32m44.3/44.3 kB\u001b[0m \u001b[31m3.4 MB/s\u001b[0m eta \u001b[36m0:00:00\u001b[0m\n",
            "\u001b[?25hRequirement already satisfied: gitpython!=3.1.19,<4,>=3.0.7 in /usr/local/lib/python3.11/dist-packages (from streamlit) (3.1.45)\n",
            "Collecting pydeck<1,>=0.8.0b4 (from streamlit)\n",
            "  Downloading pydeck-0.9.1-py2.py3-none-any.whl.metadata (4.1 kB)\n",
            "Requirement already satisfied: tornado!=6.5.0,<7,>=6.0.3 in /usr/local/lib/python3.11/dist-packages (from streamlit) (6.4.2)\n",
            "Requirement already satisfied: jinja2 in /usr/local/lib/python3.11/dist-packages (from altair!=5.4.0,!=5.4.1,<6,>=4.0->streamlit) (3.1.6)\n",
            "Requirement already satisfied: jsonschema>=3.0 in /usr/local/lib/python3.11/dist-packages (from altair!=5.4.0,!=5.4.1,<6,>=4.0->streamlit) (4.25.0)\n",
            "Requirement already satisfied: narwhals>=1.14.2 in /usr/local/lib/python3.11/dist-packages (from altair!=5.4.0,!=5.4.1,<6,>=4.0->streamlit) (2.1.1)\n",
            "Requirement already satisfied: gitdb<5,>=4.0.1 in /usr/local/lib/python3.11/dist-packages (from gitpython!=3.1.19,<4,>=3.0.7->streamlit) (4.0.12)\n",
            "Requirement already satisfied: python-dateutil>=2.8.2 in /usr/local/lib/python3.11/dist-packages (from pandas<3,>=1.4.0->streamlit) (2.9.0.post0)\n",
            "Requirement already satisfied: pytz>=2020.1 in /usr/local/lib/python3.11/dist-packages (from pandas<3,>=1.4.0->streamlit) (2025.2)\n",
            "Requirement already satisfied: tzdata>=2022.7 in /usr/local/lib/python3.11/dist-packages (from pandas<3,>=1.4.0->streamlit) (2025.2)\n",
            "Requirement already satisfied: charset-normalizer<4,>=2 in /usr/local/lib/python3.11/dist-packages (from requests<3,>=2.27->streamlit) (3.4.3)\n",
            "Requirement already satisfied: idna<4,>=2.5 in /usr/local/lib/python3.11/dist-packages (from requests<3,>=2.27->streamlit) (3.10)\n",
            "Requirement already satisfied: urllib3<3,>=1.21.1 in /usr/local/lib/python3.11/dist-packages (from requests<3,>=2.27->streamlit) (2.5.0)\n",
            "Requirement already satisfied: certifi>=2017.4.17 in /usr/local/lib/python3.11/dist-packages (from requests<3,>=2.27->streamlit) (2025.8.3)\n",
            "Requirement already satisfied: smmap<6,>=3.0.1 in /usr/local/lib/python3.11/dist-packages (from gitdb<5,>=4.0.1->gitpython!=3.1.19,<4,>=3.0.7->streamlit) (5.0.2)\n",
            "Requirement already satisfied: MarkupSafe>=2.0 in /usr/local/lib/python3.11/dist-packages (from jinja2->altair!=5.4.0,!=5.4.1,<6,>=4.0->streamlit) (3.0.2)\n",
            "Requirement already satisfied: attrs>=22.2.0 in /usr/local/lib/python3.11/dist-packages (from jsonschema>=3.0->altair!=5.4.0,!=5.4.1,<6,>=4.0->streamlit) (25.3.0)\n",
            "Requirement already satisfied: jsonschema-specifications>=2023.03.6 in /usr/local/lib/python3.11/dist-packages (from jsonschema>=3.0->altair!=5.4.0,!=5.4.1,<6,>=4.0->streamlit) (2025.4.1)\n",
            "Requirement already satisfied: referencing>=0.28.4 in /usr/local/lib/python3.11/dist-packages (from jsonschema>=3.0->altair!=5.4.0,!=5.4.1,<6,>=4.0->streamlit) (0.36.2)\n",
            "Requirement already satisfied: rpds-py>=0.7.1 in /usr/local/lib/python3.11/dist-packages (from jsonschema>=3.0->altair!=5.4.0,!=5.4.1,<6,>=4.0->streamlit) (0.27.0)\n",
            "Requirement already satisfied: six>=1.5 in /usr/local/lib/python3.11/dist-packages (from python-dateutil>=2.8.2->pandas<3,>=1.4.0->streamlit) (1.17.0)\n",
            "Downloading streamlit-1.48.1-py3-none-any.whl (9.9 MB)\n",
            "\u001b[2K   \u001b[90m━━━━━━━━━━━━━━━━━━━━━━━━━━━━━━━━━━━━━━━━\u001b[0m \u001b[32m9.9/9.9 MB\u001b[0m \u001b[31m99.9 MB/s\u001b[0m eta \u001b[36m0:00:00\u001b[0m\n",
            "\u001b[?25hDownloading pydeck-0.9.1-py2.py3-none-any.whl (6.9 MB)\n",
            "\u001b[2K   \u001b[90m━━━━━━━━━━━━━━━━━━━━━━━━━━━━━━━━━━━━━━━━\u001b[0m \u001b[32m6.9/6.9 MB\u001b[0m \u001b[31m102.6 MB/s\u001b[0m eta \u001b[36m0:00:00\u001b[0m\n",
            "\u001b[?25hDownloading watchdog-6.0.0-py3-none-manylinux2014_x86_64.whl (79 kB)\n",
            "\u001b[2K   \u001b[90m━━━━━━━━━━━━━━━━━━━━━━━━━━━━━━━━━━━━━━━━\u001b[0m \u001b[32m79.1/79.1 kB\u001b[0m \u001b[31m6.3 MB/s\u001b[0m eta \u001b[36m0:00:00\u001b[0m\n",
            "\u001b[?25hInstalling collected packages: watchdog, pydeck, streamlit\n",
            "Successfully installed pydeck-0.9.1 streamlit-1.48.1 watchdog-6.0.0\n"
          ]
        }
      ]
    },
    {
      "cell_type": "code",
      "source": [
        "streamlit run Local_Food_Wastage_Management_System_app.py"
      ],
      "metadata": {
        "colab": {
          "base_uri": "https://localhost:8080/",
          "height": 106
        },
        "id": "BafVaOH6eD75",
        "outputId": "31dcaa4e-3dbf-47a6-f1b6-25066c1c7c03"
      },
      "execution_count": 7,
      "outputs": [
        {
          "output_type": "error",
          "ename": "SyntaxError",
          "evalue": "invalid syntax (ipython-input-3011666378.py, line 1)",
          "traceback": [
            "\u001b[0;36m  File \u001b[0;32m\"/tmp/ipython-input-3011666378.py\"\u001b[0;36m, line \u001b[0;32m1\u001b[0m\n\u001b[0;31m    streamlit run Local_Food_Wastage_Management_System_app.py\u001b[0m\n\u001b[0m              ^\u001b[0m\n\u001b[0;31mSyntaxError\u001b[0m\u001b[0;31m:\u001b[0m invalid syntax\n"
          ]
        }
      ]
    },
    {
      "cell_type": "code",
      "metadata": {
        "colab": {
          "base_uri": "https://localhost:8080/"
        },
        "id": "844b38df",
        "outputId": "9872f99b-6f5b-4dc0-86b4-1599a178d83f"
      },
      "source": [
        "%%writefile app.py\n",
        "import streamlit as st\n",
        "import pandas as pd\n",
        "import sqlite3\n",
        "\n",
        "# Initialize connection\n",
        "conn = sqlite3.connect('food_waste.db')\n",
        "\n",
        "# App title\n",
        "st.title('Local Food Wastage Management System')\n",
        "\n",
        "# Sidebar filters\n",
        "st.sidebar.header('Filters')\n",
        "city_filter = st.sidebar.selectbox('Select City', ['All'] + list(pd.read_sql('SELECT DISTINCT City FROM Providers', conn)['City']))\n",
        "food_type_filter = st.sidebar.selectbox('Select Food Type', ['All'] + list(pd.read_sql('SELECT DISTINCT Food_Type FROM Food_Listings', conn)['Food_Type']))\n",
        "meal_type_filter = st.sidebar.selectbox('Select Meal Type', ['All'] + list(pd.read_sql('SELECT DISTINCT Meal_Type FROM Food_Listings', conn)['Meal_Type']))\n",
        "\n",
        "# Build query based on filters\n",
        "query = 'SELECT * FROM Food_Listings WHERE 1=1'\n",
        "params = []\n",
        "\n",
        "if city_filter != 'All':\n",
        "    query += ' AND Location = ?'\n",
        "    params.append(city_filter)\n",
        "if food_type_filter != 'All':\n",
        "    query += ' AND Food_Type = ?'\n",
        "    params.append(food_type_filter)\n",
        "if meal_type_filter != 'All':\n",
        "    query += ' AND Meal_Type = ?'\n",
        "    params.append(meal_type_filter)\n",
        "\n",
        "# Display filtered food listings\n",
        "st.header('Available Food Listings')\n",
        "food_listings = pd.read_sql(query, conn, params=params if params else None)\n",
        "st.dataframe(food_listings)\n",
        "\n",
        "# Display providers in selected city\n",
        "if city_filter != 'All':\n",
        "    st.header(f'Food Providers in {city_filter}')\n",
        "    providers = pd.read_sql('SELECT Name, Type, Contact FROM Providers WHERE City = ?', conn, params=[city_filter])\n",
        "    st.dataframe(providers)\n",
        "\n",
        "# CRUD Operations\n",
        "st.sidebar.header('Manage Listings')\n",
        "operation = st.sidebar.selectbox('Operation', ['Add', 'Update', 'Delete'])\n",
        "\n",
        "if operation == 'Add':\n",
        "    st.header('Add New Food Listing')\n",
        "    with st.form(\"add_form\"):\n",
        "        food_name = st.text_input(\"Food Name\")\n",
        "        quantity = st.number_input(\"Quantity\", min_value=1)\n",
        "        expiry_date = st.date_input(\"Expiry Date\")\n",
        "        provider_id = st.number_input(\"Provider ID\", min_value=1)\n",
        "        food_type = st.selectbox(\"Food Type\", [\"Vegetarian\", \"Non-Vegetarian\", \"Vegan\"])\n",
        "        meal_type = st.selectbox(\"Meal Type\", [\"Breakfast\", \"Lunch\", \"Dinner\", \"Snacks\"])\n",
        "\n",
        "        if st.form_submit_button(\"Add Listing\"):\n",
        "            cursor = conn.cursor()\n",
        "            cursor.execute('''\n",
        "            INSERT INTO Food_Listings (Food_Name, Quantity, Expiry_Date, Provider_ID, Food_Type, Meal_Type, Location)\n",
        "            VALUES (?, ?, ?, ?, ?, ?,\n",
        "                (SELECT City FROM Providers WHERE Provider_ID = ?))\n",
        "            ''', (food_name, quantity, expiry_date, provider_id, food_type, meal_type, provider_id))\n",
        "            conn.commit()\n",
        "            st.success(\"Food listing added successfully!\")\n",
        "\n",
        "# Add more CRUD operations and other features as needed\n",
        "\n",
        "# Data Analysis Section\n",
        "st.header('Food Wastage Analysis')\n",
        "\n",
        "# Query 2 visualization\n",
        "st.subheader('Food Contribution by Provider Type')\n",
        "provider_contrib = pd.read_sql('''\n",
        "SELECT p.Type, SUM(fl.Quantity) AS Total_Quantity\n",
        "FROM Providers p\n",
        "JOIN Food_Listings fl ON p.Provider_ID = fl.Provider_ID\n",
        "GROUP BY p.Type\n",
        "ORDER BY Total_Quantity DESC\n",
        "''', conn)\n",
        "st.bar_chart(provider_contrib.set_index('Type'))\n",
        "\n",
        "# Query 8 visualization\n",
        "st.subheader('Most Claimed Food Items')\n",
        "claimed_food = pd.read_sql('''\n",
        "SELECT fl.Food_Name, COUNT(c.Claim_ID) AS Claim_Count\n",
        "FROM Food_Listings fl\n",
        "LEFT JOIN Claims c ON fl.Food_ID = c.Food_ID\n",
        "GROUP BY fl.Food_ID, fl.Food_Name\n",
        "ORDER BY Claim_Count DESC\n",
        "LIMIT 10\n",
        "''', conn)\n",
        "st.bar_chart(claimed_food.set_index('Food_Name'))"
      ],
      "execution_count": 8,
      "outputs": [
        {
          "output_type": "stream",
          "name": "stdout",
          "text": [
            "Writing app.py\n"
          ]
        }
      ]
    },
    {
      "cell_type": "code",
      "metadata": {
        "colab": {
          "base_uri": "https://localhost:8080/"
        },
        "id": "b7215ab2",
        "outputId": "49d49cce-d575-4e84-85dc-97a83032db60"
      },
      "source": [
        "!streamlit run app.py --browser.gatherUsageStats false"
      ],
      "execution_count": 10,
      "outputs": [
        {
          "output_type": "stream",
          "name": "stdout",
          "text": [
            "\u001b[0m\n",
            "\u001b[34m\u001b[1m  You can now view your Streamlit app in your browser.\u001b[0m\n",
            "\u001b[0m\n",
            "\u001b[34m  Local URL: \u001b[0m\u001b[1mhttp://localhost:8501\u001b[0m\n",
            "\u001b[34m  Network URL: \u001b[0m\u001b[1mhttp://172.28.0.12:8501\u001b[0m\n",
            "\u001b[34m  External URL: \u001b[0m\u001b[1mhttp://34.21.120.73:8501\u001b[0m\n",
            "\u001b[0m\n",
            "\u001b[34m  Stopping...\u001b[0m\n",
            "\u001b[34m  Stopping...\u001b[0m\n"
          ]
        }
      ]
    }
  ]
}